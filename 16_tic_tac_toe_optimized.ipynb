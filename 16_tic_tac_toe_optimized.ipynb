{
 "cells": [
  {
   "cell_type": "markdown",
   "id": "769eec85",
   "metadata": {},
   "source": [
    "#### Game Setup"
   ]
  },
  {
   "cell_type": "code",
   "execution_count": 81,
   "id": "f6905942",
   "metadata": {},
   "outputs": [
    {
     "name": "stdout",
     "output_type": "stream",
     "text": [
      "[1 1 0 1 0 1 1 2 2]\n",
      "\n",
      "\n",
      "o | o | .\n",
      "---------\n",
      "o | . | o\n",
      "---------\n",
      "o | x | x\n",
      "[1 1 0 1 0 1 1 2 2] [[1 1 8]\n",
      " [1 8 1]\n",
      " [1 8 8]]\n"
     ]
    },
    {
     "data": {
      "text/plain": [
       "3"
      ]
     },
     "execution_count": 81,
     "metadata": {},
     "output_type": "execute_result"
    }
   ],
   "source": [
    "import numpy as np\n",
    "\n",
    "def print_board(board):\n",
    "    mapping = {0:'.',1:'o',2:'x'}\n",
    "    x = list(map(lambda x: mapping[x] if x in mapping else x, board))\n",
    "    print('\\n')\n",
    "    print(x[0],'|',x[1],'|',x[2])\n",
    "    print('---------')\n",
    "    print(x[3],'|',x[4],'|',x[5])\n",
    "    print('---------')\n",
    "    print(x[6],'|',x[7],'|',x[8])\n",
    "\n",
    "    \n",
    "\n",
    "def generate_random_board():\n",
    "    return np.random.randint(0,3,(9,))\n",
    "\n",
    "def permissible_actions(x):\n",
    "    return np.where(x == 0)[0]\n",
    "\n",
    "\n",
    "def random_action(x):\n",
    "    return np.random.choice(permissible_actions(x))\n",
    "\n",
    "def update_board_p1(board,action_idx):\n",
    "    board[action_idx] = 1\n",
    "    return board\n",
    "  \n",
    "def update_board_p2(board,action_idx):\n",
    "    board[action_idx] = 2\n",
    "    return board\n",
    "\n",
    "magic_square = np.array([8,1,6,3,5,7,4,9,2])\n",
    "\n",
    "def check_status(board, player_idx):\n",
    "    square = magic_square[np.where(board == player_idx, 1,0)]\n",
    "    square = square.reshape((3,3))\n",
    "    print(board, square)\n",
    "    row_sums = np.sum(square, axis=1)\n",
    "    col_sums = np.sum(square, axis=0)\n",
    "    diag_sum_1 = np.trace(square)  # Sum of main diagonal\n",
    "    diag_sum_2 = np.trace(np.fliplr(square))  # Sum of the other diagonal\n",
    "    if (np.any(row_sums == 15*player_idx)) | (np.any(col_sums == 15*player_idx)) | (diag_sum_1 == 15*player_idx) | (diag_sum_2 == 15*player_idx):\n",
    "        return player_idx # winner\n",
    "    elif np.all(board != 0):\n",
    "        return 0 # draw\n",
    "    else:\n",
    "        return 3 # continue\n",
    "\n",
    "        \n",
    "    \n",
    "\n",
    "x = generate_random_board()\n",
    "print(x)\n",
    "print_board(x)\n",
    "check_status(x, 1)"
   ]
  },
  {
   "cell_type": "raw",
   "id": "d2f4d4e5",
   "metadata": {},
   "source": [
    "#### Random O vs Random X"
   ]
  },
  {
   "cell_type": "code",
   "execution_count": 491,
   "id": "788b8210",
   "metadata": {},
   "outputs": [],
   "source": [
    "import numpy as np\n",
    "import random\n",
    "\n",
    "def print_board(board):\n",
    "    mapping = {0:'.',1:'o',2:'x'}\n",
    "    x = list(map(lambda x: mapping[x] if x in mapping else x, board))\n",
    "    print('\\n')\n",
    "    print(x[0],'|',x[1],'|',x[2])\n",
    "    print('---------')\n",
    "    print(x[3],'|',x[4],'|',x[5])\n",
    "    print('---------')\n",
    "    print(x[6],'|',x[7],'|',x[8])\n",
    "\n",
    "def generate_random_board():\n",
    "    return np.random.randint(0,2,(9,))\n",
    "\n",
    "def permissible_actions(x):\n",
    "    return np.where(x == 0)[0]\n",
    "\n",
    "def random_action(x):\n",
    "    return np.random.choice(permissible_actions(x))\n",
    "\n",
    "def update_board(board,action_idx,player_idx):\n",
    "    board_new = board.copy()\n",
    "    if player_idx == 0:\n",
    "        board_new[action_idx] = 1\n",
    "    else:\n",
    "        board_new[action_idx] = 2\n",
    "    return board_new\n",
    "    \n",
    "def check_status(board):\n",
    "    # 0 if player 1 wins, 1 if player 2 wins, 2 if draw, and 3 if incomplete\n",
    "    status = 3\n",
    "    board_string = ''.join(map(str, board))\n",
    "    if '0' not in board_string:\n",
    "        status = 2\n",
    "    numbers = ['123','456','789','147','258','369','159','357']\n",
    "    for number in numbers:\n",
    "        indices = [int(number[0])-1,int(number[1])-1,int(number[2])-1]\n",
    "        subset_board = ''.join(board_string[i] for i in indices)\n",
    "        if subset_board  in ['111']:\n",
    "            status = 0\n",
    "        elif subset_board in ['222']:\n",
    "            status = 1\n",
    "    return status\n",
    "\n",
    "def visualize_game(list_x):\n",
    "    for x in list_x:\n",
    "        print_board(x[-1])\n",
    "        \n",
    "def play_random_game(verbose = 0):\n",
    "    board = np.array([0,0,0,0,0,0,0,0,0])\n",
    "    game_history = []\n",
    "    turn_count = 0\n",
    "    player_idx = 0\n",
    "    status = 3\n",
    "    while True: # incomplete\n",
    "            \n",
    "        # check status\n",
    "        status = check_status(board)\n",
    "        if status != 3:\n",
    "            status_final = status\n",
    "            break\n",
    "        turn_count += 1\n",
    "            \n",
    "        # take random action and update board\n",
    "        action_idx = random_action(board)\n",
    "        board_new = update_board(board,action_idx,player_idx)\n",
    "        game_history.append([board, status, turn_count, player_idx, action_idx, board_new])\n",
    "        board = board_new.copy()\n",
    "        \n",
    "        # switch player\n",
    "        if player_idx == 0:\n",
    "            player_idx = 1\n",
    "        else:\n",
    "            player_idx = 0\n",
    "        \n",
    "    if verbose == 1:\n",
    "        visualize_game(game_history)\n",
    "        \n",
    "    return game_history, status"
   ]
  },
  {
   "cell_type": "code",
   "execution_count": 83,
   "id": "cc38db7c",
   "metadata": {},
   "outputs": [
    {
     "ename": "IndexError",
     "evalue": "too many indices for array: array is 8-dimensional, but 14 were indexed",
     "output_type": "error",
     "traceback": [
      "\u001b[0;31m---------------------------------------------------------------------------\u001b[0m",
      "\u001b[0;31mIndexError\u001b[0m                                Traceback (most recent call last)",
      "Cell \u001b[0;32mIn [83], line 3\u001b[0m\n\u001b[1;32m      1\u001b[0m X \u001b[38;5;241m=\u001b[39m np\u001b[38;5;241m.\u001b[39mrandom\u001b[38;5;241m.\u001b[39mrandint(\u001b[38;5;241m1\u001b[39m, \u001b[38;5;241m100\u001b[39m, size\u001b[38;5;241m=\u001b[39m(\u001b[38;5;241m2\u001b[39m, \u001b[38;5;241m2\u001b[39m, \u001b[38;5;241m2\u001b[39m, \u001b[38;5;241m2\u001b[39m, \u001b[38;5;241m2\u001b[39m, \u001b[38;5;241m2\u001b[39m, \u001b[38;5;241m2\u001b[39m, \u001b[38;5;241m9\u001b[39m))\n\u001b[1;32m      2\u001b[0m Y \u001b[38;5;241m=\u001b[39m np\u001b[38;5;241m.\u001b[39marray([\u001b[38;5;241m0\u001b[39m, \u001b[38;5;241m1\u001b[39m, \u001b[38;5;241m2\u001b[39m, \u001b[38;5;241m0\u001b[39m, \u001b[38;5;241m1\u001b[39m, \u001b[38;5;241m2\u001b[39m, \u001b[38;5;241m3\u001b[39m])\n\u001b[0;32m----> 3\u001b[0m subset \u001b[38;5;241m=\u001b[39m \u001b[43mX\u001b[49m\u001b[43m[\u001b[49m\u001b[43m(\u001b[49m\u001b[38;5;28;43mslice\u001b[39;49m\u001b[43m(\u001b[49m\u001b[38;5;28;43;01mNone\u001b[39;49;00m\u001b[43m)\u001b[49m\u001b[43m,\u001b[49m\u001b[43m)\u001b[49m\u001b[43m \u001b[49m\u001b[38;5;241;43m*\u001b[39;49m\u001b[43m \u001b[49m\u001b[38;5;28;43mlen\u001b[39;49m\u001b[43m(\u001b[49m\u001b[43mY\u001b[49m\u001b[43m)\u001b[49m\u001b[43m \u001b[49m\u001b[38;5;241;43m+\u001b[39;49m\u001b[43m \u001b[49m\u001b[38;5;28;43mtuple\u001b[39;49m\u001b[43m(\u001b[49m\u001b[43mY\u001b[49m\u001b[43m)\u001b[49m\u001b[43m]\u001b[49m\n",
      "\u001b[0;31mIndexError\u001b[0m: too many indices for array: array is 8-dimensional, but 14 were indexed"
     ]
    }
   ],
   "source": [
    "X = np.random.randint(1, 100, size=(2, 2, 2, 2, 2, 2, 2, 9))\n",
    "Y = np.array([0, 1, 2, 0, 1, 2, 3])\n",
    "subset = X[(slice(None),) * len(Y) + tuple(Y)]"
   ]
  },
  {
   "cell_type": "code",
   "execution_count": 493,
   "id": "02dead95",
   "metadata": {
    "scrolled": true
   },
   "outputs": [
    {
     "name": "stdout",
     "output_type": "stream",
     "text": [
      "\n",
      "\n",
      ". | . | .\n",
      "---------\n",
      ". | . | .\n",
      "---------\n",
      ". | o | .\n",
      "\n",
      "\n",
      ". | . | .\n",
      "---------\n",
      ". | x | .\n",
      "---------\n",
      ". | o | .\n",
      "\n",
      "\n",
      ". | . | .\n",
      "---------\n",
      ". | x | o\n",
      "---------\n",
      ". | o | .\n",
      "\n",
      "\n",
      ". | . | .\n",
      "---------\n",
      "x | x | o\n",
      "---------\n",
      ". | o | .\n",
      "\n",
      "\n",
      ". | . | o\n",
      "---------\n",
      "x | x | o\n",
      "---------\n",
      ". | o | .\n",
      "\n",
      "\n",
      ". | . | o\n",
      "---------\n",
      "x | x | o\n",
      "---------\n",
      "x | o | .\n",
      "\n",
      "\n",
      "o | . | o\n",
      "---------\n",
      "x | x | o\n",
      "---------\n",
      "x | o | .\n",
      "\n",
      "\n",
      "o | x | o\n",
      "---------\n",
      "x | x | o\n",
      "---------\n",
      "x | o | .\n",
      "\n",
      "\n",
      "o | x | o\n",
      "---------\n",
      "x | x | o\n",
      "---------\n",
      "x | o | o\n",
      "0\n"
     ]
    }
   ],
   "source": [
    "game_history, status = play_random_game(1)\n",
    "print(status)"
   ]
  },
  {
   "cell_type": "code",
   "execution_count": 393,
   "id": "13da8503",
   "metadata": {},
   "outputs": [],
   "source": [
    "def simulate_games(N):\n",
    "    data = [] # board, action, win/loss\n",
    "    data2 = []\n",
    "    for i in range(N):\n",
    "        game_history, status_final = play_random_game()\n",
    "        for event in game_history:\n",
    "            board, status, turn_count, player_idx, action_idx, board_new = event\n",
    "            if status_final == 2:\n",
    "                score = 0\n",
    "            elif status_final == player_idx:\n",
    "                score = +1\n",
    "            else:\n",
    "                score = -1\n",
    "            data.append([i, ''.join(map(str, board)), turn_count, player_idx, action_idx, score, status_final])\n",
    "        data2.append(status_final)\n",
    "    return data, data2\n",
    "    \n",
    "data, data2  = simulate_games(10000)"
   ]
  },
  {
   "cell_type": "code",
   "execution_count": 394,
   "id": "2d13f482",
   "metadata": {},
   "outputs": [
    {
     "data": {
      "text/plain": [
       "0    5888\n",
       "1    2873\n",
       "2    1239\n",
       "dtype: int64"
      ]
     },
     "execution_count": 394,
     "metadata": {},
     "output_type": "execute_result"
    }
   ],
   "source": [
    "pd.DataFrame(data2).value_counts()"
   ]
  },
  {
   "cell_type": "code",
   "execution_count": 395,
   "id": "b6d45944",
   "metadata": {},
   "outputs": [
    {
     "data": {
      "text/html": [
       "<div>\n",
       "<style scoped>\n",
       "    .dataframe tbody tr th:only-of-type {\n",
       "        vertical-align: middle;\n",
       "    }\n",
       "\n",
       "    .dataframe tbody tr th {\n",
       "        vertical-align: top;\n",
       "    }\n",
       "\n",
       "    .dataframe thead th {\n",
       "        text-align: right;\n",
       "    }\n",
       "</style>\n",
       "<table border=\"1\" class=\"dataframe\">\n",
       "  <thead>\n",
       "    <tr style=\"text-align: right;\">\n",
       "      <th></th>\n",
       "      <th>Game</th>\n",
       "      <th>Board</th>\n",
       "      <th>Turn</th>\n",
       "      <th>Player</th>\n",
       "      <th>Action</th>\n",
       "      <th>Score</th>\n",
       "      <th>Result</th>\n",
       "    </tr>\n",
       "  </thead>\n",
       "  <tbody>\n",
       "    <tr>\n",
       "      <th>0</th>\n",
       "      <td>0</td>\n",
       "      <td>000000000</td>\n",
       "      <td>1</td>\n",
       "      <td>0</td>\n",
       "      <td>8</td>\n",
       "      <td>-1</td>\n",
       "      <td>1</td>\n",
       "    </tr>\n",
       "    <tr>\n",
       "      <th>1</th>\n",
       "      <td>0</td>\n",
       "      <td>000000001</td>\n",
       "      <td>2</td>\n",
       "      <td>1</td>\n",
       "      <td>4</td>\n",
       "      <td>1</td>\n",
       "      <td>1</td>\n",
       "    </tr>\n",
       "    <tr>\n",
       "      <th>2</th>\n",
       "      <td>0</td>\n",
       "      <td>000020001</td>\n",
       "      <td>3</td>\n",
       "      <td>0</td>\n",
       "      <td>1</td>\n",
       "      <td>-1</td>\n",
       "      <td>1</td>\n",
       "    </tr>\n",
       "    <tr>\n",
       "      <th>3</th>\n",
       "      <td>0</td>\n",
       "      <td>010020001</td>\n",
       "      <td>4</td>\n",
       "      <td>1</td>\n",
       "      <td>2</td>\n",
       "      <td>1</td>\n",
       "      <td>1</td>\n",
       "    </tr>\n",
       "    <tr>\n",
       "      <th>4</th>\n",
       "      <td>0</td>\n",
       "      <td>012020001</td>\n",
       "      <td>5</td>\n",
       "      <td>0</td>\n",
       "      <td>3</td>\n",
       "      <td>-1</td>\n",
       "      <td>1</td>\n",
       "    </tr>\n",
       "  </tbody>\n",
       "</table>\n",
       "</div>"
      ],
      "text/plain": [
       "   Game      Board  Turn  Player  Action  Score  Result\n",
       "0     0  000000000     1       0       8     -1       1\n",
       "1     0  000000001     2       1       4      1       1\n",
       "2     0  000020001     3       0       1     -1       1\n",
       "3     0  010020001     4       1       2      1       1\n",
       "4     0  012020001     5       0       3     -1       1"
      ]
     },
     "execution_count": 395,
     "metadata": {},
     "output_type": "execute_result"
    }
   ],
   "source": [
    "import pandas as pd\n",
    "df = pd.DataFrame(data, columns = ['Game','Board', 'Turn','Player','Action', 'Score', 'Result'])\n",
    "df.head()"
   ]
  },
  {
   "cell_type": "code",
   "execution_count": 397,
   "id": "8d882599",
   "metadata": {},
   "outputs": [
    {
     "data": {
      "text/plain": [
       "Game      10000\n",
       "Board      4520\n",
       "Turn          9\n",
       "Player        2\n",
       "Action        9\n",
       "Score         3\n",
       "Result        3\n",
       "dtype: int64"
      ]
     },
     "execution_count": 397,
     "metadata": {},
     "output_type": "execute_result"
    }
   ],
   "source": [
    "df.nunique()"
   ]
  },
  {
   "cell_type": "markdown",
   "id": "5ce1db0b",
   "metadata": {},
   "source": [
    "#### Minmax Algorithm\n",
    "\n",
    "- maximize: find the best value of an action given child states\n",
    "- minimize: find the lowest value of an action given child states\n",
    "- terminal node: returns the value of an action"
   ]
  },
  {
   "cell_type": "code",
   "execution_count": 506,
   "id": "da58618f",
   "metadata": {},
   "outputs": [],
   "source": [
    "def generate_child(board, player_idx):\n",
    "    possible_actions = permissible_actions(board)\n",
    "    childs = []\n",
    "    for action_idx in possible_actions:\n",
    "        childs.append(update_board(board, action_idx, player_idx))\n",
    "        #print_board(update_board(board, action_idx, player_idx))\n",
    "    return childs\n",
    "    \n",
    "def compute_max_value(board, player_idx, initial_node = False):\n",
    "    \n",
    "    if player_idx == 0:\n",
    "        other_player_idx = 1\n",
    "    else:\n",
    "        other_player_idx = 0\n",
    "    status = check_status(board)\n",
    "    if status == player_idx:\n",
    "        return +1\n",
    "    elif status == other_player_idx:\n",
    "        return -1\n",
    "    elif status == 2:\n",
    "        return 0\n",
    "    else:\n",
    "        # find child boards\n",
    "        childs = generate_child(board, player_idx)\n",
    "\n",
    "        # find max value for opponent\n",
    "        max_value = np.max([compute_max_value(child, other_player_idx) for child in childs])    \n",
    "        max_index = np.argmax([compute_max_value(child, other_player_idx) for child in childs])\n",
    "        \n",
    "        # what does that mean for you\n",
    "        if index == False:\n",
    "            return -max_value\n",
    "        else:\n",
    "            return -max_value, permissible_actions(board)[max_index]"
   ]
  },
  {
   "cell_type": "code",
   "execution_count": 520,
   "id": "d7a4f0de",
   "metadata": {},
   "outputs": [
    {
     "data": {
      "text/plain": [
       "(-1, 0)"
      ]
     },
     "execution_count": 520,
     "metadata": {},
     "output_type": "execute_result"
    }
   ],
   "source": [
    "compute_max_value(test, 1, True)"
   ]
  },
  {
   "cell_type": "code",
   "execution_count": 523,
   "id": "ba3b55f6",
   "metadata": {},
   "outputs": [
    {
     "name": "stdout",
     "output_type": "stream",
     "text": [
      "\n",
      "\n",
      "x | o | x\n",
      "---------\n",
      ". | . | o\n",
      "---------\n",
      ". | o | x\n"
     ]
    },
    {
     "data": {
      "text/plain": [
       "(1, 3)"
      ]
     },
     "execution_count": 523,
     "metadata": {},
     "output_type": "execute_result"
    }
   ],
   "source": [
    "test = np.array([2,1,2, 0, 0, 1, 0, 1, 2])\n",
    "print_board(test) # baseline\n",
    "compute_max_value(test, 1, True)"
   ]
  },
  {
   "cell_type": "code",
   "execution_count": 526,
   "id": "e06ed7e0",
   "metadata": {
    "scrolled": true
   },
   "outputs": [
    {
     "name": "stdout",
     "output_type": "stream",
     "text": [
      "\n",
      "\n",
      "x | . | .\n",
      "---------\n",
      "x | . | .\n",
      "---------\n",
      "o | x | x\n"
     ]
    }
   ],
   "source": [
    "test = generate_random_board()\n",
    "print_board(test)"
   ]
  },
  {
   "cell_type": "code",
   "execution_count": 527,
   "id": "bd7b919e",
   "metadata": {},
   "outputs": [
    {
     "data": {
      "text/plain": [
       "(-1, 1)"
      ]
     },
     "execution_count": 527,
     "metadata": {},
     "output_type": "execute_result"
    }
   ],
   "source": [
    "compute_max_value(test, 0, True)"
   ]
  },
  {
   "cell_type": "markdown",
   "id": "46ca25bd",
   "metadata": {},
   "source": [
    "#### Minmax with Alpha-Beta Pruning"
   ]
  },
  {
   "cell_type": "code",
   "execution_count": null,
   "id": "b08b81a8",
   "metadata": {},
   "outputs": [],
   "source": [
    "initial_board = np.array([0,0,0,0,0,0,0,0,0])\n",
    "compute_max_value(initial_board, 0)"
   ]
  },
  {
   "cell_type": "code",
   "execution_count": null,
   "id": "2ce65902",
   "metadata": {},
   "outputs": [],
   "source": []
  }
 ],
 "metadata": {
  "kernelspec": {
   "display_name": "Python 3 (ipykernel)",
   "language": "python",
   "name": "python3"
  },
  "language_info": {
   "codemirror_mode": {
    "name": "ipython",
    "version": 3
   },
   "file_extension": ".py",
   "mimetype": "text/x-python",
   "name": "python",
   "nbconvert_exporter": "python",
   "pygments_lexer": "ipython3",
   "version": "3.10.9"
  }
 },
 "nbformat": 4,
 "nbformat_minor": 5
}
