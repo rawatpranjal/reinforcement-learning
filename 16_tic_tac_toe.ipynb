{
 "cells": [
  {
   "cell_type": "markdown",
   "id": "459a67f0",
   "metadata": {},
   "source": [
    "#### Game Setup"
   ]
  },
  {
   "cell_type": "code",
   "execution_count": 204,
   "id": "788b8210",
   "metadata": {},
   "outputs": [],
   "source": [
    "import numpy as np\n",
    "import random\n",
    "\n",
    "def print_board(board):\n",
    "    mapping = {0:'.',1:'o',2:'x'}\n",
    "    x = list(map(lambda x: mapping[x] if x in mapping else x, board))\n",
    "    print('\\n')\n",
    "    print(x[0],'|',x[1],'|',x[2])\n",
    "    print('---------')\n",
    "    print(x[3],'|',x[4],'|',x[5])\n",
    "    print('---------')\n",
    "    print(x[6],'|',x[7],'|',x[8])\n",
    "\n",
    "def generate_random_board():\n",
    "    game_history, status = play_random_game()\n",
    "    boards = [events[-1] for events in game_history]\n",
    "    return random.choice(boards)\n",
    "\n",
    "def permissible_actions(x):\n",
    "    return np.where(x == 0)[0]\n",
    "\n",
    "def random_action(x):\n",
    "    return np.random.choice(permissible_actions(x))\n",
    "\n",
    "def update_board(board,action_idx,player_idx):\n",
    "    board_new = board.copy()\n",
    "    if player_idx == 0:\n",
    "        board_new[action_idx] = 1\n",
    "    else:\n",
    "        board_new[action_idx] = 2\n",
    "    return board_new\n",
    "    \n",
    "def check_status(board):\n",
    "    # 0 if player 1 wins, 1 if player 2 wins, 2 if draw, and 3 if incomplete\n",
    "    status = 3\n",
    "    board_string = ''.join(map(str, board))\n",
    "    if '0' not in board_string:\n",
    "        status = 2\n",
    "    numbers = ['123','456','789','147','258','369','159','357']\n",
    "    for number in numbers:\n",
    "        indices = [int(number[0])-1,int(number[1])-1,int(number[2])-1]\n",
    "        subset_board = ''.join(board_string[i] for i in indices)\n",
    "        if subset_board  in ['111']:\n",
    "            status = 0\n",
    "        elif subset_board in ['222']:\n",
    "            status = 1\n",
    "    return status\n",
    "\n",
    "def visualize_game(list_x):\n",
    "    for x in list_x:\n",
    "        print_board(x[-1])\n",
    "        \n",
    "def play_random_game(verbose = 0):\n",
    "    board = np.array([0,0,0,0,0,0,0,0,0])\n",
    "    game_history = []\n",
    "    turn_count = 0\n",
    "    player_idx = 0\n",
    "    status = 3\n",
    "    while True: # incomplete\n",
    "            \n",
    "        # check status\n",
    "        status = check_status(board)\n",
    "        if status != 3:\n",
    "            status_final = status\n",
    "            break\n",
    "        turn_count += 1\n",
    "            \n",
    "        # take random action and update board\n",
    "        action_idx = random_action(board)\n",
    "        board_new = update_board(board,action_idx,player_idx)\n",
    "        game_history.append([board, status, turn_count, player_idx, action_idx, board_new])\n",
    "        board = board_new.copy()\n",
    "        \n",
    "        # switch player\n",
    "        if player_idx == 0:\n",
    "            player_idx = 1\n",
    "        else:\n",
    "            player_idx = 0\n",
    "        \n",
    "    if verbose == 1:\n",
    "        visualize_game(game_history)\n",
    "        \n",
    "    return game_history, status"
   ]
  },
  {
   "cell_type": "code",
   "execution_count": 205,
   "id": "6af1d402",
   "metadata": {},
   "outputs": [
    {
     "name": "stdout",
     "output_type": "stream",
     "text": [
      "[array([0, 0, 1, 0, 0, 0, 0, 0, 0]), array([0, 0, 1, 0, 0, 0, 0, 2, 0]), array([1, 0, 1, 0, 0, 0, 0, 2, 0]), array([1, 0, 1, 0, 0, 0, 2, 2, 0]), array([1, 0, 1, 0, 0, 0, 2, 2, 1]), array([1, 2, 1, 0, 0, 0, 2, 2, 1]), array([1, 2, 1, 1, 0, 0, 2, 2, 1]), array([1, 2, 1, 1, 0, 2, 2, 2, 1]), array([1, 2, 1, 1, 1, 2, 2, 2, 1])]\n"
     ]
    },
    {
     "data": {
      "text/plain": [
       "array([0, 0, 1, 0, 0, 0, 0, 2, 0])"
      ]
     },
     "execution_count": 205,
     "metadata": {},
     "output_type": "execute_result"
    }
   ],
   "source": [
    "generate_random_board()"
   ]
  },
  {
   "cell_type": "code",
   "execution_count": 198,
   "id": "02dead95",
   "metadata": {
    "scrolled": true
   },
   "outputs": [
    {
     "name": "stdout",
     "output_type": "stream",
     "text": [
      "[[array([0, 0, 0, 0, 0, 0, 0, 0, 0]), 3, 1, 0, 5, array([0, 0, 0, 0, 0, 1, 0, 0, 0])], [array([0, 0, 0, 0, 0, 1, 0, 0, 0]), 3, 2, 1, 1, array([0, 2, 0, 0, 0, 1, 0, 0, 0])], [array([0, 2, 0, 0, 0, 1, 0, 0, 0]), 3, 3, 0, 0, array([1, 2, 0, 0, 0, 1, 0, 0, 0])], [array([1, 2, 0, 0, 0, 1, 0, 0, 0]), 3, 4, 1, 2, array([1, 2, 2, 0, 0, 1, 0, 0, 0])], [array([1, 2, 2, 0, 0, 1, 0, 0, 0]), 3, 5, 0, 8, array([1, 2, 2, 0, 0, 1, 0, 0, 1])], [array([1, 2, 2, 0, 0, 1, 0, 0, 1]), 3, 6, 1, 6, array([1, 2, 2, 0, 0, 1, 2, 0, 1])], [array([1, 2, 2, 0, 0, 1, 2, 0, 1]), 3, 7, 0, 3, array([1, 2, 2, 1, 0, 1, 2, 0, 1])], [array([1, 2, 2, 1, 0, 1, 2, 0, 1]), 3, 8, 1, 7, array([1, 2, 2, 1, 0, 1, 2, 2, 1])], [array([1, 2, 2, 1, 0, 1, 2, 2, 1]), 3, 9, 0, 4, array([1, 2, 2, 1, 1, 1, 2, 2, 1])]]\n"
     ]
    }
   ],
   "source": [
    "game_history, status = play_random_game()\n",
    "print(game_history)"
   ]
  },
  {
   "cell_type": "code",
   "execution_count": 335,
   "id": "aba66c83",
   "metadata": {},
   "outputs": [],
   "source": [
    "#### Random Play"
   ]
  },
  {
   "cell_type": "code",
   "execution_count": 64,
   "id": "13da8503",
   "metadata": {},
   "outputs": [],
   "source": [
    "def simulate_games(N):\n",
    "    data = [] # board, action, win/loss\n",
    "    data2 = []\n",
    "    for i in range(N):\n",
    "        game_history, status_final = play_random_game()\n",
    "        for event in game_history:\n",
    "            board, status, turn_count, player_idx, action_idx, board_new = event\n",
    "            if status_final == 2:\n",
    "                score = 0\n",
    "            elif status_final == player_idx:\n",
    "                score = +1\n",
    "            else:\n",
    "                score = -1\n",
    "            data.append([i, ''.join(map(str, board)), turn_count, player_idx, action_idx, score, status_final])\n",
    "        data2.append(status_final)\n",
    "    return data, data2\n",
    "    \n",
    "data, data2  = simulate_games(10000)"
   ]
  },
  {
   "cell_type": "code",
   "execution_count": 65,
   "id": "ad355520",
   "metadata": {},
   "outputs": [
    {
     "data": {
      "text/plain": [
       "0    5792\n",
       "1    2923\n",
       "2    1285\n",
       "dtype: int64"
      ]
     },
     "execution_count": 65,
     "metadata": {},
     "output_type": "execute_result"
    }
   ],
   "source": [
    "import pandas as pd\n",
    "pd.DataFrame(data2).value_counts()"
   ]
  },
  {
   "cell_type": "code",
   "execution_count": 66,
   "id": "b6d45944",
   "metadata": {},
   "outputs": [
    {
     "data": {
      "text/html": [
       "<div>\n",
       "<style scoped>\n",
       "    .dataframe tbody tr th:only-of-type {\n",
       "        vertical-align: middle;\n",
       "    }\n",
       "\n",
       "    .dataframe tbody tr th {\n",
       "        vertical-align: top;\n",
       "    }\n",
       "\n",
       "    .dataframe thead th {\n",
       "        text-align: right;\n",
       "    }\n",
       "</style>\n",
       "<table border=\"1\" class=\"dataframe\">\n",
       "  <thead>\n",
       "    <tr style=\"text-align: right;\">\n",
       "      <th></th>\n",
       "      <th>Game</th>\n",
       "      <th>Board</th>\n",
       "      <th>Turn</th>\n",
       "      <th>Player</th>\n",
       "      <th>Action</th>\n",
       "      <th>Score</th>\n",
       "      <th>Result</th>\n",
       "    </tr>\n",
       "  </thead>\n",
       "  <tbody>\n",
       "    <tr>\n",
       "      <th>0</th>\n",
       "      <td>0</td>\n",
       "      <td>000000000</td>\n",
       "      <td>1</td>\n",
       "      <td>0</td>\n",
       "      <td>3</td>\n",
       "      <td>1</td>\n",
       "      <td>0</td>\n",
       "    </tr>\n",
       "    <tr>\n",
       "      <th>1</th>\n",
       "      <td>0</td>\n",
       "      <td>000100000</td>\n",
       "      <td>2</td>\n",
       "      <td>1</td>\n",
       "      <td>8</td>\n",
       "      <td>-1</td>\n",
       "      <td>0</td>\n",
       "    </tr>\n",
       "    <tr>\n",
       "      <th>2</th>\n",
       "      <td>0</td>\n",
       "      <td>000100002</td>\n",
       "      <td>3</td>\n",
       "      <td>0</td>\n",
       "      <td>6</td>\n",
       "      <td>1</td>\n",
       "      <td>0</td>\n",
       "    </tr>\n",
       "    <tr>\n",
       "      <th>3</th>\n",
       "      <td>0</td>\n",
       "      <td>000100102</td>\n",
       "      <td>4</td>\n",
       "      <td>1</td>\n",
       "      <td>7</td>\n",
       "      <td>-1</td>\n",
       "      <td>0</td>\n",
       "    </tr>\n",
       "    <tr>\n",
       "      <th>4</th>\n",
       "      <td>0</td>\n",
       "      <td>000100122</td>\n",
       "      <td>5</td>\n",
       "      <td>0</td>\n",
       "      <td>2</td>\n",
       "      <td>1</td>\n",
       "      <td>0</td>\n",
       "    </tr>\n",
       "  </tbody>\n",
       "</table>\n",
       "</div>"
      ],
      "text/plain": [
       "   Game      Board  Turn  Player  Action  Score  Result\n",
       "0     0  000000000     1       0       3      1       0\n",
       "1     0  000100000     2       1       8     -1       0\n",
       "2     0  000100002     3       0       6      1       0\n",
       "3     0  000100102     4       1       7     -1       0\n",
       "4     0  000100122     5       0       2      1       0"
      ]
     },
     "execution_count": 66,
     "metadata": {},
     "output_type": "execute_result"
    }
   ],
   "source": [
    "import pandas as pd\n",
    "df = pd.DataFrame(data, columns = ['Game','Board', 'Turn','Player','Action', 'Score', 'Result'])\n",
    "df.head()"
   ]
  },
  {
   "cell_type": "code",
   "execution_count": 67,
   "id": "6c71c13a",
   "metadata": {
    "scrolled": false
   },
   "outputs": [
    {
     "data": {
      "text/plain": [
       "Game      10000\n",
       "Board      4514\n",
       "Turn          9\n",
       "Player        2\n",
       "Action        9\n",
       "Score         3\n",
       "Result        3\n",
       "dtype: int64"
      ]
     },
     "execution_count": 67,
     "metadata": {},
     "output_type": "execute_result"
    }
   ],
   "source": [
    "df.nunique()"
   ]
  },
  {
   "cell_type": "markdown",
   "id": "03fcb368",
   "metadata": {},
   "source": [
    "#### Minmax Algorithm\n",
    "\n",
    "- maximize: find the best value of an action given child states\n",
    "- minimize: find the lowest value of an action given child states\n",
    "- terminal node: returns the value of an action"
   ]
  },
  {
   "cell_type": "code",
   "execution_count": 68,
   "id": "cdfc200c",
   "metadata": {},
   "outputs": [],
   "source": [
    "def generate_child(board, player_idx):\n",
    "    possible_actions = permissible_actions(board)\n",
    "    childs = []\n",
    "    for action_idx in possible_actions:\n",
    "        childs.append(update_board(board, action_idx, player_idx))\n",
    "        #print_board(update_board(board, action_idx, player_idx))\n",
    "    return childs\n",
    "    \n",
    "def compute_max_value(board, player_idx, index = False):\n",
    "    \n",
    "    if player_idx == 0:\n",
    "        other_player_idx = 1\n",
    "    else:\n",
    "        other_player_idx = 0\n",
    "    status = check_status(board)\n",
    "    if status == player_idx:\n",
    "        return +1\n",
    "    elif status == other_player_idx:\n",
    "        return -1\n",
    "    elif status == 2:\n",
    "        return 0\n",
    "    else:\n",
    "        # find child boards\n",
    "        childs = generate_child(board, player_idx)\n",
    "\n",
    "        # find max value for opponent\n",
    "        max_value = np.max([compute_max_value(child, other_player_idx) for child in childs])    \n",
    "        max_index = np.argmax([compute_max_value(child, other_player_idx) for child in childs])\n",
    "        \n",
    "        # what does that mean for you\n",
    "        if index == False:\n",
    "            return -max_value\n",
    "        else:\n",
    "            return -max_value, permissible_actions(board)[max_index]"
   ]
  },
  {
   "cell_type": "code",
   "execution_count": 70,
   "id": "89e84303",
   "metadata": {},
   "outputs": [
    {
     "name": "stdout",
     "output_type": "stream",
     "text": [
      "\n",
      "\n",
      "x | o | x\n",
      "---------\n",
      ". | . | o\n",
      "---------\n",
      ". | o | x\n"
     ]
    },
    {
     "data": {
      "text/plain": [
       "(1, 3)"
      ]
     },
     "execution_count": 70,
     "metadata": {},
     "output_type": "execute_result"
    }
   ],
   "source": [
    "test = np.array([2,1,2, 0, 0, 1, 0, 1, 2])\n",
    "print_board(test) # baseline\n",
    "compute_max_value(test, 1, True)"
   ]
  },
  {
   "cell_type": "code",
   "execution_count": 71,
   "id": "d6b25115",
   "metadata": {},
   "outputs": [],
   "source": [
    "test = generate_random_board()\n"
   ]
  },
  {
   "cell_type": "code",
   "execution_count": 72,
   "id": "cf4d893d",
   "metadata": {
    "scrolled": true
   },
   "outputs": [
    {
     "name": "stdout",
     "output_type": "stream",
     "text": [
      "\n",
      "\n",
      "o | o | o\n",
      "---------\n",
      "x | o | o\n",
      "---------\n",
      ". | . | .\n"
     ]
    },
    {
     "data": {
      "text/plain": [
       "-1"
      ]
     },
     "execution_count": 72,
     "metadata": {},
     "output_type": "execute_result"
    }
   ],
   "source": [
    "print_board(test)\n",
    "compute_max_value(test, 1, True)"
   ]
  },
  {
   "cell_type": "code",
   "execution_count": 73,
   "id": "b372dc16",
   "metadata": {},
   "outputs": [
    {
     "data": {
      "text/plain": [
       "1"
      ]
     },
     "execution_count": 73,
     "metadata": {},
     "output_type": "execute_result"
    }
   ],
   "source": [
    "compute_max_value(test, 0, True)"
   ]
  },
  {
   "cell_type": "markdown",
   "id": "8ebc22e7",
   "metadata": {},
   "source": [
    "#### Q-learning against Random Opponent"
   ]
  },
  {
   "cell_type": "code",
   "execution_count": 334,
   "id": "9279474c",
   "metadata": {
    "scrolled": true
   },
   "outputs": [
    {
     "name": "stdout",
     "output_type": "stream",
     "text": [
      "Player Win Rate: 0.0 Opponent Win Rate: 1.0 Epsilon: 1.0\n",
      "Player Win Rate: 0.69 Opponent Win Rate: 0.17 Epsilon: 0.61\n",
      "Player Win Rate: 0.75 Opponent Win Rate: 0.09 Epsilon: 0.37\n",
      "Player Win Rate: 0.77 Opponent Win Rate: 0.06 Epsilon: 0.22\n",
      "Player Win Rate: 0.81 Opponent Win Rate: 0.03 Epsilon: 0.14\n",
      "Player Win Rate: 0.85 Opponent Win Rate: 0.02 Epsilon: 0.08\n",
      "Player Win Rate: 0.82 Opponent Win Rate: 0.01 Epsilon: 0.05\n",
      "Player Win Rate: 0.82 Opponent Win Rate: 0.01 Epsilon: 0.03\n",
      "Player Win Rate: 0.82 Opponent Win Rate: 0.01 Epsilon: 0.02\n",
      "Player Win Rate: 0.85 Opponent Win Rate: 0.01 Epsilon: 0.01\n"
     ]
    }
   ],
   "source": [
    "# Hyperparameters\n",
    "verbose = 0\n",
    "num_actions = 9\n",
    "num_episodes = 1000000\n",
    "alpha = 0.1  # Learning rate\n",
    "gamma = 0.9 # No discount for immediate rewards\n",
    "initial_epsilon = 1.00\n",
    "epsilon_decay = 0.999995  # Decay factor for epsilon\n",
    "min_epsilon = 0.01\n",
    "epsilon = initial_epsilon\n",
    "player_idx = 0\n",
    "opponent_idx = 1\n",
    "\n",
    "# Q-table initialization\n",
    "num_states = 3\n",
    "num_actions = 9\n",
    "q_table = np.zeros((num_states, num_states, num_states, num_states, num_states, num_states, num_states, num_states, num_states, num_actions))\n",
    "\n",
    "def greedy_action(x):\n",
    "    subset = q_table[tuple(x)][permissible_actions(x)]\n",
    "    argmax_index = np.argmax(subset)\n",
    "    original_argmax_index = permissible_actions(x)[argmax_index]\n",
    "    return original_argmax_index\n",
    "\n",
    "def get_reward(status,player_idx,opponent_idx):\n",
    "    if status==player_idx:\n",
    "        return +1\n",
    "    elif status==opponent_idx:\n",
    "        return -1\n",
    "    elif status == 3:\n",
    "        return 0\n",
    "    elif status == 2:\n",
    "        return 0\n",
    "    \n",
    "result_history = []\n",
    "for episode in range(num_episodes):\n",
    "    if verbose ==1:\n",
    "        print('\\n--- Reset ---')\n",
    "        print_board(board)\n",
    "        print(status, turn)\n",
    "        print(q_table[tuple(board)])\n",
    "    # Reset Game\n",
    "    board = np.array([0,0,0,0,0,0,0,0,0])\n",
    "    status = check_status(board)\n",
    "    turn = 0\n",
    "    \n",
    "    # Play Game\n",
    "    while status == 3:\n",
    "                \n",
    "        # Player 1: action\n",
    "        if np.random.uniform(0, 1) < epsilon:\n",
    "            action = random_action(board)  \n",
    "        else:\n",
    "            action = greedy_action(board) \n",
    "        board_interim = update_board(board,action,player_idx)\n",
    "        status = check_status(board_interim)\n",
    "\n",
    "        if verbose == 1:\n",
    "            print(action)\n",
    "            print_board(board_interim)\n",
    "            print(status, get_reward(status,player_idx,opponent_idx))\n",
    "            print(q_table[tuple(board)][action])\n",
    "        \n",
    "        if status != 3:\n",
    "            # Game ends with players move, terminal state reached\n",
    "            result_history.append(status) # winner\n",
    "            reward = get_reward(status,player_idx,opponent_idx)            \n",
    "            q_table[tuple(board)][action] += alpha * (reward - q_table[tuple(board)][action])\n",
    "            break\n",
    "            \n",
    "        # Opponent action (Random)\n",
    "        action_opponent = random_action(board_interim)\n",
    "        board_new = update_board(board_interim,action_opponent,opponent_idx)\n",
    "        status = check_status(board_new) \n",
    "        \n",
    "        if verbose == 1:\n",
    "            print_board(board_new)\n",
    "            print(status, get_reward(status,player_idx,opponent_idx))\n",
    "        \n",
    "        if status != 3:\n",
    "            # Game ends with opponents move, terminal state reached\n",
    "            result_history.append(status)\n",
    "            reward = get_reward(status,player_idx,opponent_idx)\n",
    "            q_table[tuple(board)][action] += alpha * (reward - q_table[tuple(board)][action])\n",
    "            break\n",
    "            \n",
    "        # Game continues on, Update Q-table\n",
    "        q_table[tuple(board)][action] += alpha * (reward + gamma * np.max(q_table[tuple(board_new)]) - q_table[tuple(board)][action]) \n",
    "        board = board_new\n",
    "    \n",
    "    # Decay epsilon to reduce exploration over time\n",
    "    epsilon = max(min_epsilon, epsilon * epsilon_decay)\n",
    "\n",
    "    # Print relevant information for each episode\n",
    "    if episode % (num_episodes / 10) == 0:\n",
    "        print(\"Player Win Rate:\", np.round(np.mean(np.where(np.array(result_history[-1000:])==player_idx, 1, 0)),2), \"Opponent Win Rate:\", np.round(np.mean(np.where(np.array(result_history[-1000:])==opponent_idx, 1, 0)),2),\"Epsilon:\", round(epsilon, 2))\n"
   ]
  },
  {
   "cell_type": "code",
   "execution_count": 345,
   "id": "0e90953d",
   "metadata": {},
   "outputs": [
    {
     "name": "stdout",
     "output_type": "stream",
     "text": [
      "[array([0, 0, 0, 0, 0, 1, 0, 0, 0]), array([0, 2, 0, 0, 0, 1, 0, 0, 0]), array([0, 2, 0, 0, 0, 1, 0, 0, 1]), array([0, 2, 0, 0, 0, 1, 0, 2, 1]), array([0, 2, 0, 0, 1, 1, 0, 2, 1]), array([0, 2, 2, 0, 1, 1, 0, 2, 1]), array([0, 2, 2, 0, 1, 1, 1, 2, 1]), array([0, 2, 2, 2, 1, 1, 1, 2, 1]), array([1, 2, 2, 2, 1, 1, 1, 2, 1])]\n",
      "\n",
      "\n",
      ". | x | .\n",
      "---------\n",
      ". | . | o\n",
      "---------\n",
      ". | x | o\n",
      "[0.74457758 0.         0.99980337 0.52865885 2.15347762 0.\n",
      " 0.62176854 0.         0.        ]\n"
     ]
    }
   ],
   "source": [
    "test = generate_random_board()\n",
    "print_board(test)\n",
    "print(q_table[tuple(test)])"
   ]
  },
  {
   "cell_type": "code",
   "execution_count": 343,
   "id": "f4d93e2e",
   "metadata": {},
   "outputs": [
    {
     "data": {
      "text/plain": [
       "array([0.        , 2.10151871, 2.00917492, 0.        , 2.07056195,\n",
       "       2.32712626, 0.        , 0.        , 1.56715459])"
      ]
     },
     "execution_count": 343,
     "metadata": {},
     "output_type": "execute_result"
    }
   ],
   "source": [
    "q_table[tuple(test)]"
   ]
  },
  {
   "cell_type": "code",
   "execution_count": 102,
   "id": "1a09ee64",
   "metadata": {},
   "outputs": [
    {
     "data": {
      "text/plain": [
       "array([1, 1, 0, 1, 0, 1, 1, 1, 0, 0, 0, 1, 0, 1, 0, 0, 0, 0, 1, 1, 1, 1,\n",
       "       0, 1, 0, 1, 1, 1, 1, 1, 1, 1, 1, 1, 1, 0, 0, 1, 0, 0, 0, 1, 1, 0,\n",
       "       1, 0, 1, 1, 0, 1, 0, 0, 1, 1, 0, 1, 1, 0, 0, 1, 1, 0, 1, 1, 0, 1,\n",
       "       0, 1, 0, 0, 1, 0, 0, 0, 1, 0, 0, 1, 0, 0, 1, 0, 0, 0, 1, 1, 0, 0,\n",
       "       1, 0, 1, 1, 1, 1, 0, 1, 0, 1, 1, 0, 0, 0, 0, 0, 1, 0, 0, 0, 0, 0,\n",
       "       1, 0, 0, 0, 0, 1, 1, 0, 0, 0, 0, 1, 0, 0, 1, 0, 0, 0, 0, 0, 0, 0,\n",
       "       0, 0, 0, 0, 0, 0, 0, 0, 0, 0, 0, 0, 0, 0, 1, 0, 0, 0, 0, 1, 0, 1,\n",
       "       0, 0, 0, 0, 0, 0, 0, 1, 0, 0, 0, 0, 0, 0, 0, 1, 0, 1, 0, 0, 0, 1,\n",
       "       1, 0, 1, 0, 0, 0, 0, 0, 0, 1, 0, 0, 0, 0, 1, 0, 1, 0, 0, 0, 0, 0,\n",
       "       0, 1, 0, 0, 0, 0, 0, 1, 0, 0, 0, 0, 0, 1, 0, 0, 0, 0, 0, 0, 0, 0,\n",
       "       0, 0, 0, 0, 0, 0, 0, 0, 1, 0, 0, 0, 1, 0, 0, 0, 0, 0, 0, 0, 1, 0,\n",
       "       0, 0, 0, 0, 0, 0, 0, 0, 0, 1, 0, 0, 0, 0, 0, 0, 0, 1, 0, 0, 0, 0,\n",
       "       0, 0, 0, 0, 0, 0, 0, 0, 1, 0, 0, 0, 0, 0, 0, 0, 0, 0, 0, 0, 0, 0,\n",
       "       0, 0, 0, 0, 1, 0, 0, 0, 0, 0, 0, 0, 0, 0, 0, 0, 0, 0, 0, 0, 0, 0,\n",
       "       0, 0, 0, 0, 0, 0, 0, 0, 0, 0, 0, 0, 0, 0, 0, 1, 0, 0, 0, 0, 0, 0,\n",
       "       0, 0, 0, 0, 0, 0, 0, 0, 0, 0, 0, 0, 0, 0, 0, 0, 0, 0, 0, 0, 0, 0,\n",
       "       0, 0, 0, 0, 0, 1, 0, 0, 0, 0, 0, 0, 0, 0, 0, 0, 0, 0, 0, 0, 0, 0,\n",
       "       0, 0, 0, 0, 0, 0, 0, 0, 0, 0, 0, 0, 0, 0, 0, 0, 0, 0, 0, 0, 0, 0,\n",
       "       0, 0, 0, 0, 0, 0, 0, 0, 0, 0, 0, 0, 0, 0, 0, 0, 0, 0, 0, 0, 0, 0,\n",
       "       0, 0, 0, 0, 0, 0, 0, 0, 0, 0, 0, 0, 0, 0, 0, 0, 0, 0, 0, 0, 0, 0,\n",
       "       0, 0, 0, 0, 0, 0, 0, 0, 0, 0, 0, 0, 0, 0, 0, 0, 0, 0, 0, 0, 0, 0,\n",
       "       0, 0, 0, 0, 0, 0, 0, 0, 0, 0, 0, 0, 0, 0, 0, 0, 0, 0, 1, 0, 0, 0,\n",
       "       0, 0, 0, 0, 0, 0, 0, 0, 0, 0, 0, 0, 0, 0, 0, 0, 0, 0, 0, 0, 0, 0,\n",
       "       0, 0, 0, 0, 0, 0, 0, 0, 0, 0, 0])"
      ]
     },
     "execution_count": 102,
     "metadata": {},
     "output_type": "execute_result"
    }
   ],
   "source": [
    "np.where(np.array(result_history)==player_idx, 1, 0)"
   ]
  }
 ],
 "metadata": {
  "kernelspec": {
   "display_name": "Python 3 (ipykernel)",
   "language": "python",
   "name": "python3"
  },
  "language_info": {
   "codemirror_mode": {
    "name": "ipython",
    "version": 3
   },
   "file_extension": ".py",
   "mimetype": "text/x-python",
   "name": "python",
   "nbconvert_exporter": "python",
   "pygments_lexer": "ipython3",
   "version": "3.10.9"
  }
 },
 "nbformat": 4,
 "nbformat_minor": 5
}
