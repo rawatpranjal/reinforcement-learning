{
 "cells": [
  {
   "cell_type": "code",
   "execution_count": 29,
   "id": "fd085846",
   "metadata": {},
   "outputs": [],
   "source": [
    "import numpy as np\n",
    "\n",
    "grid_size = (3,3)\n",
    "\n",
    "goals = np.array([[0,0], [2,2]])\n",
    "\n",
    "dir2index = {'up':0,'down':1,'left':2,'right':3}\n"
   ]
  },
  {
   "cell_type": "code",
   "execution_count": 31,
   "id": "e3ffaa7c",
   "metadata": {},
   "outputs": [
    {
     "data": {
      "text/plain": [
       "0"
      ]
     },
     "execution_count": 31,
     "metadata": {},
     "output_type": "execute_result"
    }
   ],
   "source": [
    "dir2index['up']"
   ]
  },
  {
   "cell_type": "code",
   "execution_count": 25,
   "id": "a676cfbd",
   "metadata": {},
   "outputs": [
    {
     "name": "stdout",
     "output_type": "stream",
     "text": [
      "[0] [1]\n"
     ]
    }
   ],
   "source": [
    "row_indices, col_indices  = np.where(grid == 1)\n",
    "print(row_indices, col_indices)"
   ]
  },
  {
   "cell_type": "code",
   "execution_count": 23,
   "id": "881908de",
   "metadata": {},
   "outputs": [
    {
     "data": {
      "text/plain": [
       "(array([0, 0, 1, 1, 1, 2, 2]), array([0, 2, 0, 1, 2, 0, 1]))"
      ]
     },
     "execution_count": 23,
     "metadata": {},
     "output_type": "execute_result"
    }
   ],
   "source": [
    "row_indices, col_indices"
   ]
  },
  {
   "cell_type": "code",
   "execution_count": null,
   "id": "7809624e",
   "metadata": {},
   "outputs": [],
   "source": [
    "\n",
    "direction2index = {0:'up',1:'down',2:'left',3:'right'}\n",
    "\n",
    "def feasible_action(grid, player_idx):\n",
    "    feasible = [0,1,2,3] # up, down, left, right\n",
    "    row, col = np.where(grid == player_idx)\n",
    "    if row == 0:\n",
    "        feasible.pop(direction2index)\n",
    "    if col == 0:\n",
    "        feasible.pop(2)\n",
    "\n"
   ]
  },
  {
   "cell_type": "code",
   "execution_count": null,
   "id": "20453cbd",
   "metadata": {},
   "outputs": [],
   "source": [
    "def update_grid(grid, action0, action1):\n",
    "    \n",
    "    "
   ]
  },
  {
   "cell_type": "code",
   "execution_count": 35,
   "id": "13108e12",
   "metadata": {},
   "outputs": [
    {
     "name": "stdout",
     "output_type": "stream",
     "text": [
      "Agent 1: (0, 0) Action: 0 New state: (0, 0)\n",
      "Agent 2: (4, 4) Action: 1 New state: (4, 4)\n",
      "Both agents reached their goals!\n"
     ]
    }
   ],
   "source": [
    "import numpy as np\n",
    "\n",
    "# Assuming you have the Nash Q-tables after training\n",
    "# q_values_agent1 and q_values_agent2\n",
    "\n",
    "# Define the grid world dimensions\n",
    "grid_size = (5, 5)\n",
    "num_actions = 4  # Up, Down, Left, Right\n",
    "\n",
    "# Set the goal positions for both agents\n",
    "goal_positions = {\n",
    "    'agent1': (0, 0),\n",
    "    'agent2': (grid_size[0] - 1, grid_size[1] - 1)\n",
    "}\n",
    "\n",
    "# Define possible actions\n",
    "actions = [(-1, 0), (1, 0), (0, -1), (0, 1)]  # Up, Down, Left, Right\n",
    "\n",
    "# Initialize starting positions for both agents\n",
    "state_agent1 = goal_positions['agent1']\n",
    "state_agent2 = goal_positions['agent2']\n",
    "\n",
    "# Simulate a single game\n",
    "for _ in range(100):  # Maximum number of steps per episode\n",
    "    action_agent1 = np.argmax(q_values_agent1[state_agent1[0], state_agent1[1]])\n",
    "    action_agent2 = np.argmax(q_values_agent2[state_agent2[0], state_agent2[1]])\n",
    "\n",
    "    new_state_agent1 = (\n",
    "        max(0, min(state_agent1[0] + actions[action_agent1][0], grid_size[0] - 1)),\n",
    "        max(0, min(state_agent1[1] + actions[action_agent1][1], grid_size[1] - 1))\n",
    "    )\n",
    "\n",
    "    new_state_agent2 = (\n",
    "        max(0, min(state_agent2[0] + actions[action_agent2][0], grid_size[0] - 1)),\n",
    "        max(0, min(state_agent2[1] + actions[action_agent2][1], grid_size[1] - 1))\n",
    "    )\n",
    "\n",
    "    print(\"Agent 1:\", state_agent1, \"Action:\", action_agent1, \"New state:\", new_state_agent1)\n",
    "    print(\"Agent 2:\", state_agent2, \"Action:\", action_agent2, \"New state:\", new_state_agent2)\n",
    "\n",
    "    state_agent1 = new_state_agent1\n",
    "    state_agent2 = new_state_agent2\n",
    "\n",
    "    if state_agent1 == goal_positions['agent1'] and state_agent2 == goal_positions['agent2']:\n",
    "        print(\"Both agents reached their goals!\")\n",
    "        break\n"
   ]
  },
  {
   "cell_type": "code",
   "execution_count": null,
   "id": "90b9a1c2",
   "metadata": {},
   "outputs": [],
   "source": []
  }
 ],
 "metadata": {
  "kernelspec": {
   "display_name": "Python 3 (ipykernel)",
   "language": "python",
   "name": "python3"
  },
  "language_info": {
   "codemirror_mode": {
    "name": "ipython",
    "version": 3
   },
   "file_extension": ".py",
   "mimetype": "text/x-python",
   "name": "python",
   "nbconvert_exporter": "python",
   "pygments_lexer": "ipython3",
   "version": "3.10.9"
  }
 },
 "nbformat": 4,
 "nbformat_minor": 5
}
