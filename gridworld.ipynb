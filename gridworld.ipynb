{
 "cells": [
  {
   "cell_type": "markdown",
   "id": "eab1f784",
   "metadata": {},
   "source": [
    "### Gridworld Game\n",
    "\n",
    "- Goal is to get to a square in the grid world.  "
   ]
  },
  {
   "cell_type": "code",
   "execution_count": null,
   "id": "ce9beb4a",
   "metadata": {},
   "outputs": [],
   "source": [
    "import numpy as np\n",
    "import gymnasium as gym\n",
    "from gymnasium import spaces\n",
    "\n",
    "class GridWorldEnv(gym.Env):\n",
    "    metadata = {\"render_modes\":[\"human\",\"rgb_array\"], \"render_fps\":4}\n",
    "    \n",
    "    def __init__(self,render_mode=None,size=5):\n",
    "        self.size=size # size of grid \n",
    "        self.window_size=512 # size of PyGame\n",
    "        self.observation_space=spaces.Dict({\"agent\":spaces.Box(0,size-1,shape=(2,),dtype=int),\n",
    "                                            \"target\":spaces.Box(0,size-1,shape=(2,),dtype=int)})\n",
    "        self.action_space=spaces.Discrete(4)\n",
    "        self._action_to_direction={0:np.array([1,0]),\n",
    "                                   1:np.array([0,1]),\n",
    "                                   2:np.array([-1,0]),\n",
    "                                   3:np.array([0,-1])}\n",
    "        assert render_mode is None or render_mode in self.meta_data[\"render_modes\"]\n",
    "        self.render_mode = render_mode\n",
    "        self.window=None\n",
    "        self.clock=None\n",
    "        \n",
    "        def _get_obs(self):\n",
    "            return {\"agent\":self._agent_location,\"target\":self._target_location}\n",
    "        \n",
    "        \n",
    "        \n",
    "        \n",
    "        \n",
    "        "
   ]
  }
 ],
 "metadata": {
  "kernelspec": {
   "display_name": "Python 3 (ipykernel)",
   "language": "python",
   "name": "python3"
  },
  "language_info": {
   "codemirror_mode": {
    "name": "ipython",
    "version": 3
   },
   "file_extension": ".py",
   "mimetype": "text/x-python",
   "name": "python",
   "nbconvert_exporter": "python",
   "pygments_lexer": "ipython3",
   "version": "3.10.9"
  }
 },
 "nbformat": 4,
 "nbformat_minor": 5
}
