{
 "cells": [
  {
   "cell_type": "markdown",
   "id": "eab1f784",
   "metadata": {},
   "source": [
    "### Gridworld Game\n",
    "\n",
    "- Goal is to get to a square in the grid world.\n",
    "- States are (i,j) co-ordinates of the grid\n",
    "- Actions are (left,right,up,down). Not all may be available at the start. "
   ]
  },
  {
   "cell_type": "code",
   "execution_count": null,
   "id": "1fcb9521",
   "metadata": {},
   "outputs": [],
   "source": []
  }
 ],
 "metadata": {
  "kernelspec": {
   "display_name": "Python 3 (ipykernel)",
   "language": "python",
   "name": "python3"
  },
  "language_info": {
   "codemirror_mode": {
    "name": "ipython",
    "version": 3
   },
   "file_extension": ".py",
   "mimetype": "text/x-python",
   "name": "python",
   "nbconvert_exporter": "python",
   "pygments_lexer": "ipython3",
   "version": "3.10.9"
  }
 },
 "nbformat": 4,
 "nbformat_minor": 5
}
