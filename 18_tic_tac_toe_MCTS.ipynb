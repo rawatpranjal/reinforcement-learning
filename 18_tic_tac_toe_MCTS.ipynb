{
 "cells": [
  {
   "cell_type": "markdown",
   "id": "769eec85",
   "metadata": {},
   "source": [
    "#### Game Setup\n",
    "\n",
    "- Player 1 is 'X', indexed by 0. It is also status of board when Player 1 Wins.\n",
    "- Player 2 is 'O', indexed by 1. It is also status of board when Player 2 Wins. \n",
    "- An unfilled spot is \".\", indexed by 2. And 2 is also the status when game is incomplete.\n",
    "- 3 indicates the game is a tie. "
   ]
  },
  {
   "cell_type": "code",
   "execution_count": 11,
   "id": "e643254b",
   "metadata": {},
   "outputs": [],
   "source": [
    "import numpy as np\n",
    "import pandas as pd\n",
    "import random\n",
    "from numba import jit\n",
    "import warnings\n",
    "warnings.filterwarnings('ignore')\n",
    "\n",
    "def print_board(board, depth = 0):\n",
    "    mapping = {0:'x',1:'o',2:'.'}\n",
    "    x = list(map(lambda x: mapping[x] if x in mapping else x, board))\n",
    "    print('\\n')\n",
    "    print('\\t'*depth,x[0],'|',x[1],'|',x[2])\n",
    "    print('\\t'*depth,'---------')\n",
    "    print('\\t'*depth,x[3],'|',x[4],'|',x[5])\n",
    "    print('\\t'*depth,'---------')\n",
    "    print('\\t'*depth,x[6],'|',x[7],'|',x[8])\n",
    "    \n",
    "@jit\n",
    "def permissible_actions(x):\n",
    "    return np.where(x == 2)[0]    \n",
    "\n",
    "@jit\n",
    "def random_action(board):\n",
    "    return np.random.choice(permissible_actions(board))\n",
    "\n",
    "@jit\n",
    "def check_status(board):\n",
    "    # Define all possible winning combinations\n",
    "    winning_combinations = [\n",
    "        [0, 1, 2], [3, 4, 5], [6, 7, 8],  # Rows\n",
    "        [0, 3, 6], [1, 4, 7], [2, 5, 8],  # Columns\n",
    "        [0, 4, 8], [2, 4, 6]             # Diagonals\n",
    "    ]\n",
    "    \n",
    "    # Check each winning combination for a win\n",
    "    for combo in winning_combinations:\n",
    "        if board[combo[0]] == board[combo[1]] == board[combo[2]] and board[combo[0]] != 2:\n",
    "            return board[combo[0]]\n",
    "    \n",
    "    # Check for a draw\n",
    "    if 2 not in board:\n",
    "        return 3\n",
    "    \n",
    "    return 2\n",
    "\n",
    "    \n",
    "@jit\n",
    "def visualize_game(list_x):\n",
    "    for x in list_x:\n",
    "        print_board(x[-1])\n",
    "\n",
    "def update_board(board,action_idx):\n",
    "    player_idx, opponent_idx = who_to_move(board)\n",
    "    board_new = board.copy()\n",
    "    if player_idx == 0:\n",
    "        board_new[action_idx] = 0\n",
    "    else:\n",
    "        board_new[action_idx] = 1\n",
    "    return board_new\n",
    "\n",
    "\n",
    "@jit\n",
    "def who_to_move(board):\n",
    "    if np.sum(np.where(board==0,1,0))>np.sum(np.where(board==1,1,0)):\n",
    "        return 1,0\n",
    "    else:\n",
    "        return 0,1\n",
    "\n",
    "@jit\n",
    "def play_random_game(verbose = 0):\n",
    "    board = np.array([2,2,2,2,2,2,2,2,2])\n",
    "    game_history = []\n",
    "    turn_count = 0\n",
    "    status = 2\n",
    "    while True:\n",
    "        player_idx, opponent_idx = who_to_move(board)\n",
    "        status = check_status(board)\n",
    "        if status != 2:\n",
    "            status_final = status\n",
    "            break\n",
    "        turn_count += 1\n",
    "        action_idx = random_action(board)\n",
    "        board_new = update_board(board,action_idx)\n",
    "        game_history.append([board, status, turn_count, player_idx, opponent_idx, action_idx, board_new])\n",
    "        board = board_new.copy()\n",
    "    if verbose == 1:\n",
    "        visualize_game(game_history)\n",
    "    return game_history, status\n",
    "\n",
    "@jit\n",
    "def generate_random_board():\n",
    "    game_history, status = play_random_game()\n",
    "    boards = [events[-1] for events in game_history]\n",
    "    return random.choice(boards)"
   ]
  },
  {
   "cell_type": "markdown",
   "id": "eaa66ef0",
   "metadata": {},
   "source": [
    "#### Monte Carlo Tree Search \n",
    "\n",
    "- Used when minimax is impossible due to the depth or breath of the game tree. \n",
    "- Two main ideas: \n",
    "    - True value of an action given a state may be evaluated by random simulations from that state. \n",
    "    - We can move from a random policy to the optimal policy, by using these simulations to update policy. \n",
    "- From any board / position / state, we conduct the following steps: \n",
    "    - Selection: We use TREEPOLICY to descend through the tree, until we find a \"expandable\" node. This node is non-terminal, and has unvisited children. We select this node for simulation. \n",
    "    - Expansion: From selected node, we add few children to tree. \n",
    "    - Simulation: From these new children, we simulate the game until termination using SIMULATEPOLICY. We compute the final result (win/draw/loss).\n",
    "    - Backpropagation: using the final result we travel back through the tree and update the scores of each node on the path from the root to this child. This also update the TREEPOLICY. \n",
    "- These 4 steps are repeated until our computational budget is exhausted. The updated TREEPOLICY now tells us what action to take from the root node. \n",
    "- Two types of policies: \n",
    "    - TREEPOLICY: Used for selection and expansion. e.g. Greedy, based on the relative scores. \n",
    "    - SIMULATEPOLICY: Used for simulation from the new nodes added. e.g. Uniformly random. \n",
    "- Three key nodes: \n",
    "    - Root Node: the board position we are evaluating. \n",
    "    - Selected Node: the node from which we will add children to the tree\n",
    "    - Simulation Node: the child of the selected node, that has been added to the tree. "
   ]
  },
  {
   "cell_type": "code",
   "execution_count": 73,
   "id": "b726f9f5",
   "metadata": {},
   "outputs": [],
   "source": [
    "def rollout(board, verbose = False):\n",
    "    while True:\n",
    "        player_idx, opponent_idx = who_to_move(board)\n",
    "        status = check_status(board)\n",
    "        if status != 2:\n",
    "            return status\n",
    "            break\n",
    "        action_idx = random_action(board)\n",
    "        board_new = update_board(board,action_idx)\n",
    "        board = board_new.copy()\n",
    "        if verbose:\n",
    "            print_board(board)\n",
    "    "
   ]
  },
  {
   "cell_type": "code",
   "execution_count": 74,
   "id": "f567b2de",
   "metadata": {},
   "outputs": [
    {
     "name": "stdout",
     "output_type": "stream",
     "text": [
      "\n",
      "\n",
      " o | o | x\n",
      " ---------\n",
      " o | x | o\n",
      " ---------\n",
      " x | x | x\n"
     ]
    },
    {
     "data": {
      "text/plain": [
       "0"
      ]
     },
     "execution_count": 74,
     "metadata": {},
     "output_type": "execute_result"
    }
   ],
   "source": [
    "test = generate_random_board()\n",
    "print_board(test)\n",
    "rollout(test, True)"
   ]
  },
  {
   "cell_type": "code",
   "execution_count": 53,
   "id": "c69cc659",
   "metadata": {},
   "outputs": [
    {
     "data": {
      "text/plain": [
       "array([0, 0, 0, 0, 0, 0, 0, 0, 0])"
      ]
     },
     "execution_count": 53,
     "metadata": {},
     "output_type": "execute_result"
    }
   ],
   "source": [
    "score_table = np.full((3,3,3,3,3,3,3,3,3,9), 0)\n",
    "score_table[tuple(test)]"
   ]
  },
  {
   "cell_type": "code",
   "execution_count": 54,
   "id": "38eca5cf",
   "metadata": {},
   "outputs": [
    {
     "data": {
      "text/plain": [
       "0"
      ]
     },
     "execution_count": 54,
     "metadata": {},
     "output_type": "execute_result"
    }
   ],
   "source": [
    "score_table[tuple(test)][0]"
   ]
  },
  {
   "cell_type": "code",
   "execution_count": 65,
   "id": "bc513212",
   "metadata": {},
   "outputs": [],
   "source": [
    "def greedy_action(board, score_table):\n",
    "    q_values = score_table[tuple(test)]\n",
    "    max_indices = np.where(q_values == np.max(q_values))[0]\n",
    "    chosen_index = np.random.choice(max_indices)\n",
    "    return chosen_index"
   ]
  },
  {
   "cell_type": "code",
   "execution_count": 66,
   "id": "ee9d49ee",
   "metadata": {},
   "outputs": [
    {
     "data": {
      "text/plain": [
       "1"
      ]
     },
     "execution_count": 66,
     "metadata": {},
     "output_type": "execute_result"
    }
   ],
   "source": [
    "greedy_action(test, score_table)"
   ]
  },
  {
   "cell_type": "code",
   "execution_count": 87,
   "id": "0f2fad7c",
   "metadata": {},
   "outputs": [],
   "source": [
    "policy_tree_tracker = np.full((3,3,3,3,3,3,3,3,3,1), 0)\n",
    "\n",
    "def generate_child(board, visualize=False):\n",
    "    possible_actions = permissible_actions(board)\n",
    "    childs = []\n",
    "    for action_idx in possible_actions:\n",
    "        childs.append(update_board(board, action_idx))\n",
    "        if visualize==True:\n",
    "            print_board(update_board(board, action_idx))\n",
    "    return childs\n",
    "\n",
    "def expandable(board, score_table):\n",
    "    status = check_status(board)\n",
    "    if status == 2:\n",
    "        terminal = False\n",
    "    else:\n",
    "        terminal = True\n",
    "    \n",
    "    childs = generate_child(board)\n",
    "    unexpanded_childs = []\n",
    "    for idx, child in enumerate(childs):\n",
    "        if policy_tree_tracker[tuple([child]) == 0\n",
    "            unexpanded_childs.append(policy_tree_tracker[tuple([child])])\n",
    "        \n",
    "    if terminal and (1 ):\n",
    "        return False\n",
    "    else:\n",
    "        return True"
   ]
  },
  {
   "cell_type": "code",
   "execution_count": 85,
   "id": "f2dc92d4",
   "metadata": {},
   "outputs": [
    {
     "data": {
      "text/plain": [
       "array([1, 1, 0, 1, 0, 1, 0, 0, 0])"
      ]
     },
     "execution_count": 85,
     "metadata": {},
     "output_type": "execute_result"
    }
   ],
   "source": [
    "test"
   ]
  },
  {
   "cell_type": "code",
   "execution_count": 86,
   "id": "ae23d420",
   "metadata": {},
   "outputs": [
    {
     "data": {
      "text/plain": [
       "False"
      ]
     },
     "execution_count": 86,
     "metadata": {},
     "output_type": "execute_result"
    }
   ],
   "source": [
    "expandable(test, score_table)"
   ]
  },
  {
   "cell_type": "code",
   "execution_count": null,
   "id": "52304f20",
   "metadata": {},
   "outputs": [],
   "source": [
    "def expandable(board, depth, score_table):\n",
    "    if depth == 0:\n",
    "        return False\n",
    "    childs = generate_childs(board)\n",
    "    for childs in generate_childs:\n",
    "        score_table[tuple([board])"
   ]
  },
  {
   "cell_type": "code",
   "execution_count": 30,
   "id": "dc9772a6",
   "metadata": {},
   "outputs": [
    {
     "data": {
      "text/plain": [
       "0"
      ]
     },
     "execution_count": 30,
     "metadata": {},
     "output_type": "execute_result"
    }
   ],
   "source": [
    "def expansion(board, depth, score_table):\n",
    "    if depth == 0:\n",
    "        return False\n",
    "        childs = generate_childs(board)\n",
    "    "
   ]
  },
  {
   "cell_type": "code",
   "execution_count": null,
   "id": "94c1362c",
   "metadata": {},
   "outputs": [],
   "source": [
    "def find_paths()"
   ]
  },
  {
   "cell_type": "code",
   "execution_count": null,
   "id": "f8ea0910",
   "metadata": {},
   "outputs": [],
   "source": [
    "def MCTS(board, depth, move_idx==False):\n",
    "    player_idx, opponent_idx = who_to_move(board)\n",
    "    score_table = np.empty((3,3,3,3,3,3,3,3,3,9))\n",
    "    \n",
    "    # Selection\n",
    "    selected\n",
    "    # Expansion\n",
    "    \n",
    "    # Simulation\n",
    "    \n",
    "    # Backpropagation\n",
    "    \n",
    "    if move_idx:\n",
    "        return "
   ]
  }
 ],
 "metadata": {
  "kernelspec": {
   "display_name": "Python 3 (ipykernel)",
   "language": "python",
   "name": "python3"
  },
  "language_info": {
   "codemirror_mode": {
    "name": "ipython",
    "version": 3
   },
   "file_extension": ".py",
   "mimetype": "text/x-python",
   "name": "python",
   "nbconvert_exporter": "python",
   "pygments_lexer": "ipython3",
   "version": "3.10.9"
  }
 },
 "nbformat": 4,
 "nbformat_minor": 5
}
